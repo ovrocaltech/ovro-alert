{
 "cells": [
  {
   "cell_type": "code",
   "execution_count": 42,
   "metadata": {},
   "outputs": [],
   "source": [
    "import json\n",
    "from astropy.coordinates import SkyCoord\n",
    "import astropy.units as u\n",
    "\n",
    "def load_frbs_from_json(file_path):\n",
    "    with open(file_path, 'r') as json_file:\n",
    "        frbs = json.load(json_file)\n",
    "    return frbs\n",
    "\n",
    "def compare_voevent_with_frbs(voevent_dm, voevent_ra, voevent_dec, frbs):\n",
    "    matched_frbs = []\n",
    "    \n",
    "    voevent_coord = SkyCoord(ra=voevent_ra*u.deg, dec=voevent_dec*u.deg)\n",
    "    \n",
    "    for frb in frbs:\n",
    "        frb_dm = frb['fitburst_dm']\n",
    "        frb_ra = frb['ra']\n",
    "        frb_dec = frb['dec']\n",
    "        \n",
    "        frb_coord = SkyCoord(ra=frb_ra*u.deg, dec=frb_dec*u.deg)\n",
    "        \n",
    "        # Define a threshold for DM and angular distance\n",
    "        dm_threshold = 2.0\n",
    "        angular_distance_threshold = 0.01 * u.deg\n",
    "        \n",
    "        # Compare DM and angular distance\n",
    "        dm_difference = abs(voevent_dm - frb_dm)\n",
    "        angular_distance = voevent_coord.separation(frb_coord)\n",
    "        \n",
    "        if dm_difference <= dm_threshold and angular_distance <= angular_distance_threshold:\n",
    "            matched_frbs.append(frb)\n",
    "    \n",
    "    return matched_frbs"
   ]
  },
  {
   "cell_type": "code",
   "execution_count": 43,
   "metadata": {},
   "outputs": [
    {
     "name": "stdout",
     "output_type": "stream",
     "text": [
      "Matched FRBs:\n",
      "- Repeater Of: \n",
      "- Repeater Of: FRB20201130A\n",
      "- Repeater Of: FRB20201130A\n",
      "- Repeater Of: FRB20201130A\n",
      "- Repeater Of: FRB20201130A\n",
      "- Repeater Of: FRB20201130A\n",
      "- Repeater Of: FRB20201130A\n",
      "- Repeater Of: FRB20201130A\n",
      "- Repeater Of: FRB20201130A\n",
      "- Repeater Of: FRB20201130A\n",
      "- Repeater Of: FRB20201130A\n"
     ]
    }
   ],
   "source": [
    "# Example usage\n",
    "file_path = 'rn3_catalog_2023-2-8.json'  # Replace with the path to your JSON file\n",
    "frbs = load_frbs_from_json(file_path)\n",
    "\n",
    "# Example values for DM and sky position received in the VOEvent\n",
    "voevent_dm = 288.7232360839844\n",
    "voevent_ra = 64.38791381729722\n",
    "voevent_dec = 7.941401046301758\n",
    "\n",
    "matched_frbs = compare_voevent_with_frbs(voevent_dm, voevent_ra, voevent_dec, frbs)\n",
    "\n",
    "if matched_frbs:\n",
    "    print(\"Matched FRBs:\")\n",
    "    for frb in matched_frbs:\n",
    "        tns_name = frb['tns_name']\n",
    "        event_number = frb['event_number']\n",
    "        frb_dm = frb['fitburst_dm']\n",
    "        repeater_of = frb['repeater_of']\n",
    "        print(f\"- Repeater Of: {repeater_of}\")\n",
    "else:\n",
    "    print(\"No matched FRBs found.\")\n"
   ]
  },
  {
   "cell_type": "code",
   "execution_count": null,
   "metadata": {},
   "outputs": [],
   "source": []
  }
 ],
 "metadata": {
  "kernelspec": {
   "display_name": "Python 3",
   "language": "python",
   "name": "python3"
  },
  "language_info": {
   "codemirror_mode": {
    "name": "ipython",
    "version": 3
   },
   "file_extension": ".py",
   "mimetype": "text/x-python",
   "name": "python",
   "nbconvert_exporter": "python",
   "pygments_lexer": "ipython3",
   "version": "3.7.3"
  }
 },
 "nbformat": 4,
 "nbformat_minor": 4
}
